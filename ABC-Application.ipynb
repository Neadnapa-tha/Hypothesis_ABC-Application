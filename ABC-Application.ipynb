{
  "nbformat": 4,
  "nbformat_minor": 0,
  "metadata": {
    "colab": {
      "provenance": [],
      "toc_visible": true
    },
    "kernelspec": {
      "name": "python3",
      "display_name": "Python 3"
    },
    "language_info": {
      "name": "python"
    }
  },
  "cells": [
    {
      "cell_type": "code",
      "execution_count": 338,
      "metadata": {
        "id": "uGOtVnYLMgmc"
      },
      "outputs": [],
      "source": [
        "import pandas as pd\n",
        "import numpy as np\n",
        "import scipy.stats\n",
        "import matplotlib.pyplot as plt\n",
        "import seaborn as sns"
      ]
    },
    {
      "cell_type": "markdown",
      "source": [
        "# **Data understanding**\n",
        "ทำความเข้าใจว่าข้อมูลที่ได้มาเป็นอะไร"
      ],
      "metadata": {
        "id": "r2cq8lilR-C4"
      }
    },
    {
      "cell_type": "code",
      "source": [
        "df = pd.read_csv('/content/ABC_APP_reviews_raw.csv')\n",
        "df"
      ],
      "metadata": {
        "colab": {
          "base_uri": "https://localhost:8080/",
          "height": 704
        },
        "id": "xJvLmE0vRqiR",
        "outputId": "ec3e77af-bbfd-42cc-cafd-043a57188391"
      },
      "execution_count": 339,
      "outputs": [
        {
          "output_type": "execute_result",
          "data": {
            "text/plain": [
              "                                                reviewId    userId  \\\n",
              "0      gp:AOqpTOHRz-11c0apHLSKHHp52FxUXsQS9Z88wP3sWc5...   21212.0   \n",
              "1      gp:AOqpTOF6mFDEkIypmyT3shDLjPHg8zB3kdns2W36ahp...   61190.0   \n",
              "2      gp:AOqpTOGtqU4sb8vuVo3-eB7kIXWoBn-0YCUZ1SnPRKS...  184004.0   \n",
              "3      gp:AOqpTOFHDm-Qa5R6jCpOGTFT2qr1_PKbCTbBNPahCEn...  118473.0   \n",
              "4      gp:AOqpTOFB6Ndao8IHRpOJRmbSknwMGxHcwYzux93YyXI...  145760.0   \n",
              "...                                                  ...       ...   \n",
              "27523  gp:AOqpTOH8SWEi39Bled3v6snKFvF4HGpot67CV7oG1wi...  137307.0   \n",
              "27524  gp:AOqpTOGZ03j2mYWbTxwxLMxjjU1IKLaPpgBREAvFzI7...  109162.0   \n",
              "27525  gp:AOqpTOGbDLTzbBxi2cRLMDhd-KWE7g8WK3c_W6PSsUM...  117543.0   \n",
              "27526  gp:AOqpTOEu8Rc7_Nj8qtWNchMB5MfBFBseku7GiQh9fKD...   77074.0   \n",
              "27527  gp:AOqpTOGGlZJV3tN8GfGTFjQ9EG-NcjhJfuB-iFtPlvv...       NaN   \n",
              "\n",
              "               userName  gender   age  freqUse  hoursUseLastMonth  \\\n",
              "0          MR LOL GAMER  Female  16.0      4.0              117.0   \n",
              "1           Dino Kljako       M  33.0      3.0               63.0   \n",
              "2        Olivia Harding    Male  33.0      5.0               48.0   \n",
              "3               Keli We       F  26.0      4.0               30.0   \n",
              "4          Mavis Kotoka  Female  27.0      5.0              219.0   \n",
              "...                 ...     ...   ...      ...                ...   \n",
              "27523       Mah_ player    Male  32.0      4.0              211.0   \n",
              "27524     jonathan shaw       F  43.0      5.0              120.0   \n",
              "27525       Kayemba Mon  Female  10.0      5.0              195.0   \n",
              "27526  Frank Uche Dibia       F  29.0      5.0               30.0   \n",
              "27527               NaN     NaN   NaN      NaN                NaN   \n",
              "\n",
              "      reviewCreatedVersion  score  \\\n",
              "0                   23.8.4    5.0   \n",
              "1                      NaN    5.0   \n",
              "2                   23.9.5    5.0   \n",
              "3                   22.2.5    2.0   \n",
              "4                   22.1.5    5.0   \n",
              "...                    ...    ...   \n",
              "27523                  NaN    1.0   \n",
              "27524               23.7.3    5.0   \n",
              "27525                  NaN    5.0   \n",
              "27526               23.7.3    5.0   \n",
              "27527                  NaN    NaN   \n",
              "\n",
              "                                                 content  thumbsUpCount  \\\n",
              "0                                                   Good            0.0   \n",
              "1      Awesome app! Too many people on it where it's ...            0.0   \n",
              "2                                                Not bad            0.0   \n",
              "3                                             It is good            0.0   \n",
              "4                                   Very interesting app            0.0   \n",
              "...                                                  ...            ...   \n",
              "27523                                     Bad cringe kid            0.0   \n",
              "27524                                            So cool            0.0   \n",
              "27525   it's very good and important,funny and very fast            0.0   \n",
              "27526  Entertaining, educative and very captivating t...            0.0   \n",
              "27527                                                NaN            NaN   \n",
              "\n",
              "              reviewAt replyContent repliedAt  \n",
              "0       4/5/2022 23:18          NaN       NaN  \n",
              "1       4/5/2022 23:18          NaN       NaN  \n",
              "2       4/5/2022 23:17          NaN       NaN  \n",
              "3       4/5/2022 23:17          NaN       NaN  \n",
              "4       4/5/2022 23:17          NaN       NaN  \n",
              "...                ...          ...       ...  \n",
              "27523  3/29/2022 20:52          NaN       NaN  \n",
              "27524  3/29/2022 20:51          NaN       NaN  \n",
              "27525  3/29/2022 20:50          NaN       NaN  \n",
              "27526  3/29/2022 20:50          NaN       NaN  \n",
              "27527              NaN          NaN       NaN  \n",
              "\n",
              "[27528 rows x 14 columns]"
            ],
            "text/html": [
              "\n",
              "  <div id=\"df-dd7242c9-e745-413f-8733-8840e8a897bf\" class=\"colab-df-container\">\n",
              "    <div>\n",
              "<style scoped>\n",
              "    .dataframe tbody tr th:only-of-type {\n",
              "        vertical-align: middle;\n",
              "    }\n",
              "\n",
              "    .dataframe tbody tr th {\n",
              "        vertical-align: top;\n",
              "    }\n",
              "\n",
              "    .dataframe thead th {\n",
              "        text-align: right;\n",
              "    }\n",
              "</style>\n",
              "<table border=\"1\" class=\"dataframe\">\n",
              "  <thead>\n",
              "    <tr style=\"text-align: right;\">\n",
              "      <th></th>\n",
              "      <th>reviewId</th>\n",
              "      <th>userId</th>\n",
              "      <th>userName</th>\n",
              "      <th>gender</th>\n",
              "      <th>age</th>\n",
              "      <th>freqUse</th>\n",
              "      <th>hoursUseLastMonth</th>\n",
              "      <th>reviewCreatedVersion</th>\n",
              "      <th>score</th>\n",
              "      <th>content</th>\n",
              "      <th>thumbsUpCount</th>\n",
              "      <th>reviewAt</th>\n",
              "      <th>replyContent</th>\n",
              "      <th>repliedAt</th>\n",
              "    </tr>\n",
              "  </thead>\n",
              "  <tbody>\n",
              "    <tr>\n",
              "      <th>0</th>\n",
              "      <td>gp:AOqpTOHRz-11c0apHLSKHHp52FxUXsQS9Z88wP3sWc5...</td>\n",
              "      <td>21212.0</td>\n",
              "      <td>MR LOL GAMER</td>\n",
              "      <td>Female</td>\n",
              "      <td>16.0</td>\n",
              "      <td>4.0</td>\n",
              "      <td>117.0</td>\n",
              "      <td>23.8.4</td>\n",
              "      <td>5.0</td>\n",
              "      <td>Good</td>\n",
              "      <td>0.0</td>\n",
              "      <td>4/5/2022 23:18</td>\n",
              "      <td>NaN</td>\n",
              "      <td>NaN</td>\n",
              "    </tr>\n",
              "    <tr>\n",
              "      <th>1</th>\n",
              "      <td>gp:AOqpTOF6mFDEkIypmyT3shDLjPHg8zB3kdns2W36ahp...</td>\n",
              "      <td>61190.0</td>\n",
              "      <td>Dino Kljako</td>\n",
              "      <td>M</td>\n",
              "      <td>33.0</td>\n",
              "      <td>3.0</td>\n",
              "      <td>63.0</td>\n",
              "      <td>NaN</td>\n",
              "      <td>5.0</td>\n",
              "      <td>Awesome app! Too many people on it where it's ...</td>\n",
              "      <td>0.0</td>\n",
              "      <td>4/5/2022 23:18</td>\n",
              "      <td>NaN</td>\n",
              "      <td>NaN</td>\n",
              "    </tr>\n",
              "    <tr>\n",
              "      <th>2</th>\n",
              "      <td>gp:AOqpTOGtqU4sb8vuVo3-eB7kIXWoBn-0YCUZ1SnPRKS...</td>\n",
              "      <td>184004.0</td>\n",
              "      <td>Olivia Harding</td>\n",
              "      <td>Male</td>\n",
              "      <td>33.0</td>\n",
              "      <td>5.0</td>\n",
              "      <td>48.0</td>\n",
              "      <td>23.9.5</td>\n",
              "      <td>5.0</td>\n",
              "      <td>Not bad</td>\n",
              "      <td>0.0</td>\n",
              "      <td>4/5/2022 23:17</td>\n",
              "      <td>NaN</td>\n",
              "      <td>NaN</td>\n",
              "    </tr>\n",
              "    <tr>\n",
              "      <th>3</th>\n",
              "      <td>gp:AOqpTOFHDm-Qa5R6jCpOGTFT2qr1_PKbCTbBNPahCEn...</td>\n",
              "      <td>118473.0</td>\n",
              "      <td>Keli We</td>\n",
              "      <td>F</td>\n",
              "      <td>26.0</td>\n",
              "      <td>4.0</td>\n",
              "      <td>30.0</td>\n",
              "      <td>22.2.5</td>\n",
              "      <td>2.0</td>\n",
              "      <td>It is good</td>\n",
              "      <td>0.0</td>\n",
              "      <td>4/5/2022 23:17</td>\n",
              "      <td>NaN</td>\n",
              "      <td>NaN</td>\n",
              "    </tr>\n",
              "    <tr>\n",
              "      <th>4</th>\n",
              "      <td>gp:AOqpTOFB6Ndao8IHRpOJRmbSknwMGxHcwYzux93YyXI...</td>\n",
              "      <td>145760.0</td>\n",
              "      <td>Mavis Kotoka</td>\n",
              "      <td>Female</td>\n",
              "      <td>27.0</td>\n",
              "      <td>5.0</td>\n",
              "      <td>219.0</td>\n",
              "      <td>22.1.5</td>\n",
              "      <td>5.0</td>\n",
              "      <td>Very interesting app</td>\n",
              "      <td>0.0</td>\n",
              "      <td>4/5/2022 23:17</td>\n",
              "      <td>NaN</td>\n",
              "      <td>NaN</td>\n",
              "    </tr>\n",
              "    <tr>\n",
              "      <th>...</th>\n",
              "      <td>...</td>\n",
              "      <td>...</td>\n",
              "      <td>...</td>\n",
              "      <td>...</td>\n",
              "      <td>...</td>\n",
              "      <td>...</td>\n",
              "      <td>...</td>\n",
              "      <td>...</td>\n",
              "      <td>...</td>\n",
              "      <td>...</td>\n",
              "      <td>...</td>\n",
              "      <td>...</td>\n",
              "      <td>...</td>\n",
              "      <td>...</td>\n",
              "    </tr>\n",
              "    <tr>\n",
              "      <th>27523</th>\n",
              "      <td>gp:AOqpTOH8SWEi39Bled3v6snKFvF4HGpot67CV7oG1wi...</td>\n",
              "      <td>137307.0</td>\n",
              "      <td>Mah_ player</td>\n",
              "      <td>Male</td>\n",
              "      <td>32.0</td>\n",
              "      <td>4.0</td>\n",
              "      <td>211.0</td>\n",
              "      <td>NaN</td>\n",
              "      <td>1.0</td>\n",
              "      <td>Bad cringe kid</td>\n",
              "      <td>0.0</td>\n",
              "      <td>3/29/2022 20:52</td>\n",
              "      <td>NaN</td>\n",
              "      <td>NaN</td>\n",
              "    </tr>\n",
              "    <tr>\n",
              "      <th>27524</th>\n",
              "      <td>gp:AOqpTOGZ03j2mYWbTxwxLMxjjU1IKLaPpgBREAvFzI7...</td>\n",
              "      <td>109162.0</td>\n",
              "      <td>jonathan shaw</td>\n",
              "      <td>F</td>\n",
              "      <td>43.0</td>\n",
              "      <td>5.0</td>\n",
              "      <td>120.0</td>\n",
              "      <td>23.7.3</td>\n",
              "      <td>5.0</td>\n",
              "      <td>So cool</td>\n",
              "      <td>0.0</td>\n",
              "      <td>3/29/2022 20:51</td>\n",
              "      <td>NaN</td>\n",
              "      <td>NaN</td>\n",
              "    </tr>\n",
              "    <tr>\n",
              "      <th>27525</th>\n",
              "      <td>gp:AOqpTOGbDLTzbBxi2cRLMDhd-KWE7g8WK3c_W6PSsUM...</td>\n",
              "      <td>117543.0</td>\n",
              "      <td>Kayemba Mon</td>\n",
              "      <td>Female</td>\n",
              "      <td>10.0</td>\n",
              "      <td>5.0</td>\n",
              "      <td>195.0</td>\n",
              "      <td>NaN</td>\n",
              "      <td>5.0</td>\n",
              "      <td>it's very good and important,funny and very fast</td>\n",
              "      <td>0.0</td>\n",
              "      <td>3/29/2022 20:50</td>\n",
              "      <td>NaN</td>\n",
              "      <td>NaN</td>\n",
              "    </tr>\n",
              "    <tr>\n",
              "      <th>27526</th>\n",
              "      <td>gp:AOqpTOEu8Rc7_Nj8qtWNchMB5MfBFBseku7GiQh9fKD...</td>\n",
              "      <td>77074.0</td>\n",
              "      <td>Frank Uche Dibia</td>\n",
              "      <td>F</td>\n",
              "      <td>29.0</td>\n",
              "      <td>5.0</td>\n",
              "      <td>30.0</td>\n",
              "      <td>23.7.3</td>\n",
              "      <td>5.0</td>\n",
              "      <td>Entertaining, educative and very captivating t...</td>\n",
              "      <td>0.0</td>\n",
              "      <td>3/29/2022 20:50</td>\n",
              "      <td>NaN</td>\n",
              "      <td>NaN</td>\n",
              "    </tr>\n",
              "    <tr>\n",
              "      <th>27527</th>\n",
              "      <td>gp:AOqpTOGGlZJV3tN8GfGTFjQ9EG-NcjhJfuB-iFtPlvv...</td>\n",
              "      <td>NaN</td>\n",
              "      <td>NaN</td>\n",
              "      <td>NaN</td>\n",
              "      <td>NaN</td>\n",
              "      <td>NaN</td>\n",
              "      <td>NaN</td>\n",
              "      <td>NaN</td>\n",
              "      <td>NaN</td>\n",
              "      <td>NaN</td>\n",
              "      <td>NaN</td>\n",
              "      <td>NaN</td>\n",
              "      <td>NaN</td>\n",
              "      <td>NaN</td>\n",
              "    </tr>\n",
              "  </tbody>\n",
              "</table>\n",
              "<p>27528 rows × 14 columns</p>\n",
              "</div>\n",
              "    <div class=\"colab-df-buttons\">\n",
              "\n",
              "  <div class=\"colab-df-container\">\n",
              "    <button class=\"colab-df-convert\" onclick=\"convertToInteractive('df-dd7242c9-e745-413f-8733-8840e8a897bf')\"\n",
              "            title=\"Convert this dataframe to an interactive table.\"\n",
              "            style=\"display:none;\">\n",
              "\n",
              "  <svg xmlns=\"http://www.w3.org/2000/svg\" height=\"24px\" viewBox=\"0 -960 960 960\">\n",
              "    <path d=\"M120-120v-720h720v720H120Zm60-500h600v-160H180v160Zm220 220h160v-160H400v160Zm0 220h160v-160H400v160ZM180-400h160v-160H180v160Zm440 0h160v-160H620v160ZM180-180h160v-160H180v160Zm440 0h160v-160H620v160Z\"/>\n",
              "  </svg>\n",
              "    </button>\n",
              "\n",
              "  <style>\n",
              "    .colab-df-container {\n",
              "      display:flex;\n",
              "      gap: 12px;\n",
              "    }\n",
              "\n",
              "    .colab-df-convert {\n",
              "      background-color: #E8F0FE;\n",
              "      border: none;\n",
              "      border-radius: 50%;\n",
              "      cursor: pointer;\n",
              "      display: none;\n",
              "      fill: #1967D2;\n",
              "      height: 32px;\n",
              "      padding: 0 0 0 0;\n",
              "      width: 32px;\n",
              "    }\n",
              "\n",
              "    .colab-df-convert:hover {\n",
              "      background-color: #E2EBFA;\n",
              "      box-shadow: 0px 1px 2px rgba(60, 64, 67, 0.3), 0px 1px 3px 1px rgba(60, 64, 67, 0.15);\n",
              "      fill: #174EA6;\n",
              "    }\n",
              "\n",
              "    .colab-df-buttons div {\n",
              "      margin-bottom: 4px;\n",
              "    }\n",
              "\n",
              "    [theme=dark] .colab-df-convert {\n",
              "      background-color: #3B4455;\n",
              "      fill: #D2E3FC;\n",
              "    }\n",
              "\n",
              "    [theme=dark] .colab-df-convert:hover {\n",
              "      background-color: #434B5C;\n",
              "      box-shadow: 0px 1px 3px 1px rgba(0, 0, 0, 0.15);\n",
              "      filter: drop-shadow(0px 1px 2px rgba(0, 0, 0, 0.3));\n",
              "      fill: #FFFFFF;\n",
              "    }\n",
              "  </style>\n",
              "\n",
              "    <script>\n",
              "      const buttonEl =\n",
              "        document.querySelector('#df-dd7242c9-e745-413f-8733-8840e8a897bf button.colab-df-convert');\n",
              "      buttonEl.style.display =\n",
              "        google.colab.kernel.accessAllowed ? 'block' : 'none';\n",
              "\n",
              "      async function convertToInteractive(key) {\n",
              "        const element = document.querySelector('#df-dd7242c9-e745-413f-8733-8840e8a897bf');\n",
              "        const dataTable =\n",
              "          await google.colab.kernel.invokeFunction('convertToInteractive',\n",
              "                                                    [key], {});\n",
              "        if (!dataTable) return;\n",
              "\n",
              "        const docLinkHtml = 'Like what you see? Visit the ' +\n",
              "          '<a target=\"_blank\" href=https://colab.research.google.com/notebooks/data_table.ipynb>data table notebook</a>'\n",
              "          + ' to learn more about interactive tables.';\n",
              "        element.innerHTML = '';\n",
              "        dataTable['output_type'] = 'display_data';\n",
              "        await google.colab.output.renderOutput(dataTable, element);\n",
              "        const docLink = document.createElement('div');\n",
              "        docLink.innerHTML = docLinkHtml;\n",
              "        element.appendChild(docLink);\n",
              "      }\n",
              "    </script>\n",
              "  </div>\n",
              "\n",
              "\n",
              "<div id=\"df-57a3a479-8e45-4d13-a48a-1667cd8b665b\">\n",
              "  <button class=\"colab-df-quickchart\" onclick=\"quickchart('df-57a3a479-8e45-4d13-a48a-1667cd8b665b')\"\n",
              "            title=\"Suggest charts.\"\n",
              "            style=\"display:none;\">\n",
              "\n",
              "<svg xmlns=\"http://www.w3.org/2000/svg\" height=\"24px\"viewBox=\"0 0 24 24\"\n",
              "     width=\"24px\">\n",
              "    <g>\n",
              "        <path d=\"M19 3H5c-1.1 0-2 .9-2 2v14c0 1.1.9 2 2 2h14c1.1 0 2-.9 2-2V5c0-1.1-.9-2-2-2zM9 17H7v-7h2v7zm4 0h-2V7h2v10zm4 0h-2v-4h2v4z\"/>\n",
              "    </g>\n",
              "</svg>\n",
              "  </button>\n",
              "\n",
              "<style>\n",
              "  .colab-df-quickchart {\n",
              "      --bg-color: #E8F0FE;\n",
              "      --fill-color: #1967D2;\n",
              "      --hover-bg-color: #E2EBFA;\n",
              "      --hover-fill-color: #174EA6;\n",
              "      --disabled-fill-color: #AAA;\n",
              "      --disabled-bg-color: #DDD;\n",
              "  }\n",
              "\n",
              "  [theme=dark] .colab-df-quickchart {\n",
              "      --bg-color: #3B4455;\n",
              "      --fill-color: #D2E3FC;\n",
              "      --hover-bg-color: #434B5C;\n",
              "      --hover-fill-color: #FFFFFF;\n",
              "      --disabled-bg-color: #3B4455;\n",
              "      --disabled-fill-color: #666;\n",
              "  }\n",
              "\n",
              "  .colab-df-quickchart {\n",
              "    background-color: var(--bg-color);\n",
              "    border: none;\n",
              "    border-radius: 50%;\n",
              "    cursor: pointer;\n",
              "    display: none;\n",
              "    fill: var(--fill-color);\n",
              "    height: 32px;\n",
              "    padding: 0;\n",
              "    width: 32px;\n",
              "  }\n",
              "\n",
              "  .colab-df-quickchart:hover {\n",
              "    background-color: var(--hover-bg-color);\n",
              "    box-shadow: 0 1px 2px rgba(60, 64, 67, 0.3), 0 1px 3px 1px rgba(60, 64, 67, 0.15);\n",
              "    fill: var(--button-hover-fill-color);\n",
              "  }\n",
              "\n",
              "  .colab-df-quickchart-complete:disabled,\n",
              "  .colab-df-quickchart-complete:disabled:hover {\n",
              "    background-color: var(--disabled-bg-color);\n",
              "    fill: var(--disabled-fill-color);\n",
              "    box-shadow: none;\n",
              "  }\n",
              "\n",
              "  .colab-df-spinner {\n",
              "    border: 2px solid var(--fill-color);\n",
              "    border-color: transparent;\n",
              "    border-bottom-color: var(--fill-color);\n",
              "    animation:\n",
              "      spin 1s steps(1) infinite;\n",
              "  }\n",
              "\n",
              "  @keyframes spin {\n",
              "    0% {\n",
              "      border-color: transparent;\n",
              "      border-bottom-color: var(--fill-color);\n",
              "      border-left-color: var(--fill-color);\n",
              "    }\n",
              "    20% {\n",
              "      border-color: transparent;\n",
              "      border-left-color: var(--fill-color);\n",
              "      border-top-color: var(--fill-color);\n",
              "    }\n",
              "    30% {\n",
              "      border-color: transparent;\n",
              "      border-left-color: var(--fill-color);\n",
              "      border-top-color: var(--fill-color);\n",
              "      border-right-color: var(--fill-color);\n",
              "    }\n",
              "    40% {\n",
              "      border-color: transparent;\n",
              "      border-right-color: var(--fill-color);\n",
              "      border-top-color: var(--fill-color);\n",
              "    }\n",
              "    60% {\n",
              "      border-color: transparent;\n",
              "      border-right-color: var(--fill-color);\n",
              "    }\n",
              "    80% {\n",
              "      border-color: transparent;\n",
              "      border-right-color: var(--fill-color);\n",
              "      border-bottom-color: var(--fill-color);\n",
              "    }\n",
              "    90% {\n",
              "      border-color: transparent;\n",
              "      border-bottom-color: var(--fill-color);\n",
              "    }\n",
              "  }\n",
              "</style>\n",
              "\n",
              "  <script>\n",
              "    async function quickchart(key) {\n",
              "      const quickchartButtonEl =\n",
              "        document.querySelector('#' + key + ' button');\n",
              "      quickchartButtonEl.disabled = true;  // To prevent multiple clicks.\n",
              "      quickchartButtonEl.classList.add('colab-df-spinner');\n",
              "      try {\n",
              "        const charts = await google.colab.kernel.invokeFunction(\n",
              "            'suggestCharts', [key], {});\n",
              "      } catch (error) {\n",
              "        console.error('Error during call to suggestCharts:', error);\n",
              "      }\n",
              "      quickchartButtonEl.classList.remove('colab-df-spinner');\n",
              "      quickchartButtonEl.classList.add('colab-df-quickchart-complete');\n",
              "    }\n",
              "    (() => {\n",
              "      let quickchartButtonEl =\n",
              "        document.querySelector('#df-57a3a479-8e45-4d13-a48a-1667cd8b665b button');\n",
              "      quickchartButtonEl.style.display =\n",
              "        google.colab.kernel.accessAllowed ? 'block' : 'none';\n",
              "    })();\n",
              "  </script>\n",
              "</div>\n",
              "    </div>\n",
              "  </div>\n"
            ]
          },
          "metadata": {},
          "execution_count": 339
        }
      ]
    },
    {
      "cell_type": "markdown",
      "source": [
        "### **data info**\n",
        "จากการดูข้อมูลด้านบนจะเห็นว่า เรามี data ทั้งหมด 27528 index และมี column ทั้งหมด 14 columns\n",
        "\n",
        "**ชนิดข้อมูลของ data**\n",
        "\n",
        "*object* : reviewId, userName, gender, reviewCreatedVersion, content, reviewAt, replyContent, repliedAt\n",
        "*float64* : userId, age, freqUse, hoursUseLastMonth, score thumbsUpCount\n",
        "\n",
        "\n",
        "จากข้อมูล datainfo ที่อาจารย์ให้มา\n",
        "1. reviewId: ID ของรีวิว\n",
        "2. userId: ID ของผู้ที่ให้รีวิว โดยผู้รีวิว 1 คน สามารถให้รีวิวมากกว่า 1 ครั้งได้\n",
        "3. userName: Username ของผู้ที่ให้รีวิว โดยผู้รีวิว 1 คน สามารถให้รีวิวมากกว่า 1 ครั้งได้\n",
        "4. gender: เพศของผู้ที่ให้รีวิว\n",
        "5. age: อายุของผู้ที่ให้รีวิว\n",
        "6. freqUse: ความถี่ในการใช้งาน application โดยผู้ให้รีวิวเป็นผู้เลือกตอบ มีค่าตั้งแต่ 1 - 5 โดย ค่า 1 หมายถึงมีความถี่ในการใช้งานน้อยมาก และ ค่า 5 หมายถึงมีความถี่ในการใช้งานสูงมาก\n",
        "7. hoursUseLastMonth: จำนวนชั่วโมงที่มีการใช้งาน application ในเดือนที่ผ่านมา โดยรวบรวมจาก log การใช้งานของระบบ และนำเป็นจำนวนชั่วโมง (ปัดเป็นจำนวนเต็ม)\n",
        "8. reviewCreatedVersion: เนื่องจากมีการปล่อย application หลายเว่อร์ชัน หากผู้ใช้งานยังไม่อัพเดตก็อาจจะมีการใช้งานคนละเว่อร์ชัน ช่องนี้ระบุว่าเป็นการรีวิวให้กับ application version ใด โดย  version จะมีตัวเลขอยู่ 3 ชุด เช่น 22.9.3  ตามหลักการในการระบุ version ของโปรแกรมโดยทั่วไป ซึ่งตัวเลขหน้าสุดคือ version หลัก ซึ่งจะเปลี่ยนเหมือนมีการอัพเดตโปรแกรมในส่วนหลัก ตัวเลขที่ 2 จะเปลี่ยนก็ต่อเมี่อมีการปรับฟีเจอร์การทำงาน และตัวเลขที่ 3 จะเปลี่ยนเมื่อเป็นการแก้ไขโปรแกรมเล็กน้อย เช่นแก้ไข Bug ในโปรแกรม\n",
        "9. score: คะแนนรีวิว โดยผู้รีวิวสามารถเลือกให้คะแนนได้ตั้งแต่ 1 - 5 โดย ค่า 1 หมายถึงมีความพึงพอใจในการใช้งานน้อยมาก และ ค่า 5 หมายถึงมีความพึงพอใจในการใช้งานสูงมาก\n",
        "10. content: เนื้อหาหรือคำบรรยายประกอบการีวิว ระบุโดยผู้รีวิว\n",
        "11. thumbsUpCount: จำนวนคนที่กด like ให้กับเนื้อหาในการรีวิว (เห็นด้วยกับสิ่งที่ผู้ให้รีวิวอธิบาย)\n",
        "12. reviewAt: วันและเวลาที่ให้การรีวิว\n",
        "13. replyContent: เนื้อหาการตอบกลับรีวิวดังกล่าว (ซึ่งอาจจะไม่มีก็ได้)\n",
        "14. repliedAt: วันและเวลาที่ตอบกลับการรีวิวดังกล่าว (ซึ่งอาจจะไม่มีก็ได้)\n",
        "\n",
        "\n"
      ],
      "metadata": {
        "id": "1ppZgA9YSbWW"
      }
    },
    {
      "cell_type": "markdown",
      "source": [
        "### **ตรวจสอบ null value**\n",
        "พบว่าข้อมูลดังนี้มี null value\n",
        "\n",
        "\n",
        "```\n",
        "   ชื่อcolumn       จำนวน index ที่มีค่า null\n",
        "\n",
        "userId                     27\n",
        "userName                    1\n",
        "gender                   2064\n",
        "age                        27\n",
        "freqUse                    27\n",
        "hoursUseLastMonth          27\n",
        "reviewCreatedVersion     8220\n",
        "score                       1\n",
        "content                     1\n",
        "thumbsUpCount               1\n",
        "reviewAt                    1\n",
        "replyContent            27520\n",
        "repliedAt               27520\n",
        "```\n",
        "\n",
        "\n",
        "\n",
        "\n"
      ],
      "metadata": {
        "id": "k6c52RyeV8sL"
      }
    },
    {
      "cell_type": "markdown",
      "source": [
        "# **Define a research question**\n",
        "ตั้งคำถามจากข้อมูลที่ได้ โดยที่คำตอบของคำถามสามารถนำไปตัดสินใจทางธุรกิจได้ (make a business decision)\n"
      ],
      "metadata": {
        "id": "q-JkSgo2SBOk"
      }
    },
    {
      "cell_type": "markdown",
      "source": [
        "จากข้อมูลพบว่า ข้อมูล  freqUse ที่user ได้ใช้ level การใช้งาน ABC application และ hoursUseLastMonth จากที่ application เก็บระยะเวลาการใช้งานในเดือนที่แล้วของ user อาจส่งผลต่อคะแนนรีวิว score\n",
        "\n",
        "\n",
        "ดังนั้นคำถามของเราคือ  **ข้อมูลแต่ละ version ส่งผลต่อคะแนน score หรือไม่** เพื่อที่เราจะได้รู้ว่าผู้ใช้ที่ใช้งาน apllication ของเราพึงพอใจต่อ application ของเรา version ใดมากกว่ากันเพื่อจะได้นำไปเป็นพัฒนา version ต่อไปได้\n",
        "โดยตัวเลขหน้าสุดของ reviewCreatedVersion คือ version หลัก ซึ่งจะเปลี่ยนเหมือนมีการอัพเดตโปรแกรมในส่วนหลัก"
      ],
      "metadata": {
        "id": "y0dqxSRfcO69"
      }
    },
    {
      "cell_type": "markdown",
      "source": [
        "# **Data preprocessing**\n",
        "เนื่องจากข้อมูลที่ได้ไปไม่สมบูรณ์จึงต้องทำการเตรียมข้อมูลให้อยู่ในรูปแบบที่เหมาะสมสามารถวิเคราะห์ได้"
      ],
      "metadata": {
        "id": "IV2mzhWdRvo4"
      }
    },
    {
      "cell_type": "code",
      "source": [
        "df.info()"
      ],
      "metadata": {
        "colab": {
          "base_uri": "https://localhost:8080/"
        },
        "id": "e1fQ4cuITESP",
        "outputId": "7d82ff04-0ff2-41e2-fcfe-1b1ad6ee1afb"
      },
      "execution_count": 340,
      "outputs": [
        {
          "output_type": "stream",
          "name": "stdout",
          "text": [
            "<class 'pandas.core.frame.DataFrame'>\n",
            "RangeIndex: 27528 entries, 0 to 27527\n",
            "Data columns (total 14 columns):\n",
            " #   Column                Non-Null Count  Dtype  \n",
            "---  ------                --------------  -----  \n",
            " 0   reviewId              27528 non-null  object \n",
            " 1   userId                27501 non-null  float64\n",
            " 2   userName              27527 non-null  object \n",
            " 3   gender                25464 non-null  object \n",
            " 4   age                   27501 non-null  float64\n",
            " 5   freqUse               27501 non-null  float64\n",
            " 6   hoursUseLastMonth     27501 non-null  float64\n",
            " 7   reviewCreatedVersion  19308 non-null  object \n",
            " 8   score                 27527 non-null  float64\n",
            " 9   content               27527 non-null  object \n",
            " 10  thumbsUpCount         27527 non-null  float64\n",
            " 11  reviewAt              27527 non-null  object \n",
            " 12  replyContent          8 non-null      object \n",
            " 13  repliedAt             8 non-null      object \n",
            "dtypes: float64(6), object(8)\n",
            "memory usage: 2.9+ MB\n"
          ]
        }
      ]
    },
    {
      "cell_type": "code",
      "source": [
        "# Check the number of NaN values in each column\n",
        "df.isna().sum()"
      ],
      "metadata": {
        "colab": {
          "base_uri": "https://localhost:8080/"
        },
        "id": "ispnqwfSR7Sh",
        "outputId": "b6d3a156-c68e-45eb-981c-881f4336f39c"
      },
      "execution_count": 341,
      "outputs": [
        {
          "output_type": "execute_result",
          "data": {
            "text/plain": [
              "reviewId                    0\n",
              "userId                     27\n",
              "userName                    1\n",
              "gender                   2064\n",
              "age                        27\n",
              "freqUse                    27\n",
              "hoursUseLastMonth          27\n",
              "reviewCreatedVersion     8220\n",
              "score                       1\n",
              "content                     1\n",
              "thumbsUpCount               1\n",
              "reviewAt                    1\n",
              "replyContent            27520\n",
              "repliedAt               27520\n",
              "dtype: int64"
            ]
          },
          "metadata": {},
          "execution_count": 341
        }
      ]
    },
    {
      "cell_type": "markdown",
      "source": [
        "### **Handle Missing 'userID'**\n",
        "userId: ID ของผู้ที่ให้รีวิว โดยผู้รีวิว 1 คน สามารถให้รีวิวมากกว่า 1 ครั้งได้"
      ],
      "metadata": {
        "id": "rWi2b6ZGTLbO"
      }
    },
    {
      "cell_type": "code",
      "source": [
        "df2 = df.copy()\n",
        "df2 = df2.dropna(subset=['userId'])\n",
        "\n",
        "# เปลี่ยน datatype\n",
        "df2['userId'] = df2['userId'].astype('string')"
      ],
      "metadata": {
        "id": "A0ZYI4MmTxTt"
      },
      "execution_count": 342,
      "outputs": []
    },
    {
      "cell_type": "code",
      "source": [
        "print(df2.isnull().sum())\n",
        "print(len(df2))"
      ],
      "metadata": {
        "colab": {
          "base_uri": "https://localhost:8080/"
        },
        "id": "MaJ3l_O7T7L8",
        "outputId": "21e1f963-5779-429c-8555-7770d7d0f0c0"
      },
      "execution_count": 343,
      "outputs": [
        {
          "output_type": "stream",
          "name": "stdout",
          "text": [
            "reviewId                    0\n",
            "userId                      0\n",
            "userName                    0\n",
            "gender                   2037\n",
            "age                         0\n",
            "freqUse                     0\n",
            "hoursUseLastMonth           0\n",
            "reviewCreatedVersion     8208\n",
            "score                       0\n",
            "content                     0\n",
            "thumbsUpCount               0\n",
            "reviewAt                    0\n",
            "replyContent            27493\n",
            "repliedAt               27493\n",
            "dtype: int64\n",
            "27501\n"
          ]
        }
      ]
    },
    {
      "cell_type": "code",
      "source": [
        "df2.info()"
      ],
      "metadata": {
        "colab": {
          "base_uri": "https://localhost:8080/"
        },
        "id": "DSTtho6-crK1",
        "outputId": "42933778-5bba-4080-c749-b0ff8144128e"
      },
      "execution_count": 344,
      "outputs": [
        {
          "output_type": "stream",
          "name": "stdout",
          "text": [
            "<class 'pandas.core.frame.DataFrame'>\n",
            "Int64Index: 27501 entries, 0 to 27526\n",
            "Data columns (total 14 columns):\n",
            " #   Column                Non-Null Count  Dtype  \n",
            "---  ------                --------------  -----  \n",
            " 0   reviewId              27501 non-null  object \n",
            " 1   userId                27501 non-null  string \n",
            " 2   userName              27501 non-null  object \n",
            " 3   gender                25464 non-null  object \n",
            " 4   age                   27501 non-null  float64\n",
            " 5   freqUse               27501 non-null  float64\n",
            " 6   hoursUseLastMonth     27501 non-null  float64\n",
            " 7   reviewCreatedVersion  19293 non-null  object \n",
            " 8   score                 27501 non-null  float64\n",
            " 9   content               27501 non-null  object \n",
            " 10  thumbsUpCount         27501 non-null  float64\n",
            " 11  reviewAt              27501 non-null  object \n",
            " 12  replyContent          8 non-null      object \n",
            " 13  repliedAt             8 non-null      object \n",
            "dtypes: float64(5), object(8), string(1)\n",
            "memory usage: 3.1+ MB\n"
          ]
        }
      ]
    },
    {
      "cell_type": "markdown",
      "source": [
        "### **Handle Missing 'gender'**\n",
        "gender: เพศของผู้ที่ให้รีวิว"
      ],
      "metadata": {
        "id": "YPs0WZ70US18"
      }
    },
    {
      "cell_type": "code",
      "source": [
        "df2['gender'].value_counts()"
      ],
      "metadata": {
        "colab": {
          "base_uri": "https://localhost:8080/"
        },
        "id": "ugGc6cLxVFbL",
        "outputId": "a4215f68-c726-4d30-cd8d-76cc63bc2f70"
      },
      "execution_count": 345,
      "outputs": [
        {
          "output_type": "execute_result",
          "data": {
            "text/plain": [
              "F         8437\n",
              "Male      8064\n",
              "Female    7068\n",
              "M         1895\n",
              "Name: gender, dtype: int64"
            ]
          },
          "metadata": {},
          "execution_count": 345
        }
      ]
    },
    {
      "cell_type": "code",
      "source": [
        "# แทนที่ F ด้วย Female และ M ด้วย Male\n",
        "df2 = df2.replace({'gender': {'F': 'Female', 'M': 'Male'}})\n",
        "\n",
        "# แทนที่ null ด้วย UNK\n",
        "df2 = df2.replace({'gender': {np.nan: 'UNK'}})"
      ],
      "metadata": {
        "id": "fsLsUxLaUmP8"
      },
      "execution_count": 346,
      "outputs": []
    },
    {
      "cell_type": "code",
      "source": [
        "df2['gender'].value_counts()"
      ],
      "metadata": {
        "colab": {
          "base_uri": "https://localhost:8080/"
        },
        "id": "nDXPNYvIc7Dk",
        "outputId": "cdfe91f0-f9cf-4da0-a162-4fbbda1412c8"
      },
      "execution_count": 347,
      "outputs": [
        {
          "output_type": "execute_result",
          "data": {
            "text/plain": [
              "Female    15505\n",
              "Male       9959\n",
              "UNK        2037\n",
              "Name: gender, dtype: int64"
            ]
          },
          "metadata": {},
          "execution_count": 347
        }
      ]
    },
    {
      "cell_type": "code",
      "source": [
        "print(df2.isnull().sum())\n",
        "print(len(df2))"
      ],
      "metadata": {
        "colab": {
          "base_uri": "https://localhost:8080/"
        },
        "id": "m4ngymxRV7yi",
        "outputId": "7ceb5ba0-c677-4ba7-e45b-7cbb032fb169"
      },
      "execution_count": 348,
      "outputs": [
        {
          "output_type": "stream",
          "name": "stdout",
          "text": [
            "reviewId                    0\n",
            "userId                      0\n",
            "userName                    0\n",
            "gender                      0\n",
            "age                         0\n",
            "freqUse                     0\n",
            "hoursUseLastMonth           0\n",
            "reviewCreatedVersion     8208\n",
            "score                       0\n",
            "content                     0\n",
            "thumbsUpCount               0\n",
            "reviewAt                    0\n",
            "replyContent            27493\n",
            "repliedAt               27493\n",
            "dtype: int64\n",
            "27501\n"
          ]
        }
      ]
    },
    {
      "cell_type": "markdown",
      "source": [
        "### **Handle Missing 'reviewCreatedVersion'**\n",
        "reviewCreatedVersion: เนื่องจากมีการปล่อย application หลายเว่อร์ชัน หากผูั้ใช้งานยังไม่อัพเดตก็อาจจะมีการใช้งานคนละเว่อร์ชัน ช่องนี้ระบุว่าเป็นการรีวิวให้กับ application version ใด โดย version จะมีตัวเลขอยู่ 3 ชุด เช่น 22.9.3  ตามหลักการในการระบุ version ของโปรแกรมโดยทั่วไป ซึ่งตัวเลขหน้าสุดคือ version หลัก ซึ่งจะเปลี่ยนเหมือนมีการอัพเดตโปรแกรมในส่วนหลัก ตัวเลขที่ 2 จะเปลี่ยนก็ต่อเมี่อมีการปรับฟีเจอร์การทำงาน และตัวเลขที่ 3 จะเปลี่ยนเมื่อเป็นการแก้ไขโปรแกรมเล็กน้อย เช่นแก้ไข Bug ในโปรแกรม"
      ],
      "metadata": {
        "id": "OgAbKB33Yf8E"
      }
    },
    {
      "cell_type": "code",
      "source": [
        "df2 = df2.dropna(subset=['reviewCreatedVersion'])"
      ],
      "metadata": {
        "id": "zkavk-b2lKTd"
      },
      "execution_count": 349,
      "outputs": []
    },
    {
      "cell_type": "code",
      "source": [
        "df2['reviewCreatedVersion'] = df2['reviewCreatedVersion'].apply(lambda x: int(x.split('.')[0]) if '.' in str(x) else int(x))"
      ],
      "metadata": {
        "id": "oJuRkzVll6aY"
      },
      "execution_count": 350,
      "outputs": []
    },
    {
      "cell_type": "code",
      "source": [
        "df2['reviewCreatedVersion'].value_counts()"
      ],
      "metadata": {
        "colab": {
          "base_uri": "https://localhost:8080/"
        },
        "id": "yGe2ZnD1Y3Lr",
        "outputId": "346e879a-07f2-4774-b318-d855320fae39"
      },
      "execution_count": 351,
      "outputs": [
        {
          "output_type": "execute_result",
          "data": {
            "text/plain": [
              "23    17476\n",
              "22      699\n",
              "21      288\n",
              "20      267\n",
              "18      162\n",
              "19      121\n",
              "17       77\n",
              "16       59\n",
              "15       39\n",
              "14       24\n",
              "12       16\n",
              "9        14\n",
              "10       12\n",
              "13       11\n",
              "11       11\n",
              "8        10\n",
              "6         4\n",
              "7         2\n",
              "4         1\n",
              "Name: reviewCreatedVersion, dtype: int64"
            ]
          },
          "metadata": {},
          "execution_count": 351
        }
      ]
    },
    {
      "cell_type": "code",
      "source": [
        "print(df2.isnull().sum())\n",
        "print(len(df2))"
      ],
      "metadata": {
        "colab": {
          "base_uri": "https://localhost:8080/"
        },
        "id": "t0mUPQyjd7ST",
        "outputId": "11f6b321-a78e-413f-c285-b018256accdf"
      },
      "execution_count": 352,
      "outputs": [
        {
          "output_type": "stream",
          "name": "stdout",
          "text": [
            "reviewId                    0\n",
            "userId                      0\n",
            "userName                    0\n",
            "gender                      0\n",
            "age                         0\n",
            "freqUse                     0\n",
            "hoursUseLastMonth           0\n",
            "reviewCreatedVersion        0\n",
            "score                       0\n",
            "content                     0\n",
            "thumbsUpCount               0\n",
            "reviewAt                    0\n",
            "replyContent            19285\n",
            "repliedAt               19285\n",
            "dtype: int64\n",
            "19293\n"
          ]
        }
      ]
    },
    {
      "cell_type": "markdown",
      "source": [
        "### **Handle Missing 'replyContent' and 'repliedAt'**\n",
        "replyContent: เนื้อหาการตอบกลับรีวิวดังกล่าว (ซึ่งอาจจะไม่มีก็ได้),\n",
        "\n",
        "repliedAt: วันและเวลาที่ตอบกลับการรีวิวดังกล่าว (ซึ่งอาจจะไม่มีก็ได้)"
      ],
      "metadata": {
        "id": "XtaVSSQ4ehyK"
      }
    },
    {
      "cell_type": "code",
      "source": [
        "df2 = df2.drop(['replyContent', 'repliedAt'], axis=1)"
      ],
      "metadata": {
        "id": "lSuHnZ9FetGg"
      },
      "execution_count": 353,
      "outputs": []
    },
    {
      "cell_type": "code",
      "source": [
        "print(df2.isnull().sum())\n",
        "print(len(df2))"
      ],
      "metadata": {
        "colab": {
          "base_uri": "https://localhost:8080/"
        },
        "id": "0wRqw1GcfJhw",
        "outputId": "29296622-c932-49eb-ffde-3330f5f02d72"
      },
      "execution_count": 354,
      "outputs": [
        {
          "output_type": "stream",
          "name": "stdout",
          "text": [
            "reviewId                0\n",
            "userId                  0\n",
            "userName                0\n",
            "gender                  0\n",
            "age                     0\n",
            "freqUse                 0\n",
            "hoursUseLastMonth       0\n",
            "reviewCreatedVersion    0\n",
            "score                   0\n",
            "content                 0\n",
            "thumbsUpCount           0\n",
            "reviewAt                0\n",
            "dtype: int64\n",
            "19293\n"
          ]
        }
      ]
    },
    {
      "cell_type": "markdown",
      "source": [
        "# **Data visualization**\n",
        "ทำการ plot graphs เพื่อใช้เป็นหลักฐานสนับสนุนการตัดสินใจทางธุรกิจ"
      ],
      "metadata": {
        "id": "dqQJcw8QfdJY"
      }
    },
    {
      "cell_type": "code",
      "source": [
        "ax = df2['score'].value_counts().plot.bar(color = 'orange')"
      ],
      "metadata": {
        "colab": {
          "base_uri": "https://localhost:8080/",
          "height": 438
        },
        "id": "i050xP8qi8Ma",
        "outputId": "6d362802-7372-4587-9c51-4e0f9564caa0"
      },
      "execution_count": 355,
      "outputs": [
        {
          "output_type": "display_data",
          "data": {
            "text/plain": [
              "<Figure size 640x480 with 1 Axes>"
            ],
            "image/png": "[encoded data removed]"
          },
          "metadata": {}
        }
      ]
    },
    {
      "cell_type": "code",
      "source": [
        "ax = df2['reviewCreatedVersion'].value_counts().plot.bar(color = 'orange')"
      ],
      "metadata": {
        "colab": {
          "base_uri": "https://localhost:8080/",
          "height": 434
        },
        "outputId": "cd568129-ba06-41ab-8e47-11111608f86e",
        "id": "ubBNboEBm5bb"
      },
      "execution_count": 356,
      "outputs": [
        {
          "output_type": "display_data",
          "data": {
            "text/plain": [
              "<Figure size 640x480 with 1 Axes>"
            ],
            "image/png": "[encoded data removed]"
          },
          "metadata": {}
        }
      ]
    },
    {
      "cell_type": "code",
      "source": [
        "sns.scatterplot(x='score', y='reviewCreatedVersion', data=df2)"
      ],
      "metadata": {
        "colab": {
          "base_uri": "https://localhost:8080/",
          "height": 466
        },
        "id": "qFq-Issyh5n0",
        "outputId": "4b6c674a-8928-401c-a04b-687eccb51764"
      },
      "execution_count": 357,
      "outputs": [
        {
          "output_type": "execute_result",
          "data": {
            "text/plain": [
              "<Axes: xlabel='score', ylabel='reviewCreatedVersion'>"
            ]
          },
          "metadata": {},
          "execution_count": 357
        },
        {
          "output_type": "display_data",
          "data": {
            "text/plain": [
              "<Figure size 640x480 with 1 Axes>"
            ],
            "image/png": "[encoded data removed]"
          },
          "metadata": {}
        }
      ]
    },
    {
      "cell_type": "markdown",
      "source": [
        "# **Statistical analysis**\n",
        "ทำการวิเคราะห์ข้อมูลทางสถิติเพื่อใช้เป็นหลักฐานสนับสนุนการตัดสินใจทางธุรกิจ"
      ],
      "metadata": {
        "id": "dH0cLmAagSsX"
      }
    },
    {
      "cell_type": "code",
      "source": [
        "# showing basic statistics\n",
        "df2.describe()"
      ],
      "metadata": {
        "colab": {
          "base_uri": "https://localhost:8080/",
          "height": 300
        },
        "id": "Qv4DfJH2gmYm",
        "outputId": "73ab9753-a7f6-402c-ac67-cf5fbc49d7a6"
      },
      "execution_count": 358,
      "outputs": [
        {
          "output_type": "execute_result",
          "data": {
            "text/plain": [
              "                age       freqUse  hoursUseLastMonth  reviewCreatedVersion  \\\n",
              "count  19293.000000  19293.000000       19293.000000          19293.000000   \n",
              "mean      32.956668      3.620329         143.980926             22.698751   \n",
              "std       22.405252      1.317042         103.323859              1.293197   \n",
              "min        3.000000      0.000000          10.000000              4.000000   \n",
              "25%       16.000000      3.000000          62.000000             23.000000   \n",
              "50%       27.000000      4.000000         119.000000             23.000000   \n",
              "75%       46.000000      5.000000         200.000000             23.000000   \n",
              "max      102.000000      5.000000         692.000000             23.000000   \n",
              "\n",
              "              score  thumbsUpCount  \n",
              "count  19293.000000   19293.000000  \n",
              "mean       4.358316       2.535116  \n",
              "std        1.325830      74.934920  \n",
              "min        1.000000       0.000000  \n",
              "25%        5.000000       0.000000  \n",
              "50%        5.000000       0.000000  \n",
              "75%        5.000000       0.000000  \n",
              "max        5.000000    4310.000000  "
            ],
            "text/html": [
              "\n",
              "  <div id=\"df-6aeccd95-730d-4b0b-ac51-7ede4471343e\" class=\"colab-df-container\">\n",
              "    <div>\n",
              "<style scoped>\n",
              "    .dataframe tbody tr th:only-of-type {\n",
              "        vertical-align: middle;\n",
              "    }\n",
              "\n",
              "    .dataframe tbody tr th {\n",
              "        vertical-align: top;\n",
              "    }\n",
              "\n",
              "    .dataframe thead th {\n",
              "        text-align: right;\n",
              "    }\n",
              "</style>\n",
              "<table border=\"1\" class=\"dataframe\">\n",
              "  <thead>\n",
              "    <tr style=\"text-align: right;\">\n",
              "      <th></th>\n",
              "      <th>age</th>\n",
              "      <th>freqUse</th>\n",
              "      <th>hoursUseLastMonth</th>\n",
              "      <th>reviewCreatedVersion</th>\n",
              "      <th>score</th>\n",
              "      <th>thumbsUpCount</th>\n",
              "    </tr>\n",
              "  </thead>\n",
              "  <tbody>\n",
              "    <tr>\n",
              "      <th>count</th>\n",
              "      <td>19293.000000</td>\n",
              "      <td>19293.000000</td>\n",
              "      <td>19293.000000</td>\n",
              "      <td>19293.000000</td>\n",
              "      <td>19293.000000</td>\n",
              "      <td>19293.000000</td>\n",
              "    </tr>\n",
              "    <tr>\n",
              "      <th>mean</th>\n",
              "      <td>32.956668</td>\n",
              "      <td>3.620329</td>\n",
              "      <td>143.980926</td>\n",
              "      <td>22.698751</td>\n",
              "      <td>4.358316</td>\n",
              "      <td>2.535116</td>\n",
              "    </tr>\n",
              "    <tr>\n",
              "      <th>std</th>\n",
              "      <td>22.405252</td>\n",
              "      <td>1.317042</td>\n",
              "      <td>103.323859</td>\n",
              "      <td>1.293197</td>\n",
              "      <td>1.325830</td>\n",
              "      <td>74.934920</td>\n",
              "    </tr>\n",
              "    <tr>\n",
              "      <th>min</th>\n",
              "      <td>3.000000</td>\n",
              "      <td>0.000000</td>\n",
              "      <td>10.000000</td>\n",
              "      <td>4.000000</td>\n",
              "      <td>1.000000</td>\n",
              "      <td>0.000000</td>\n",
              "    </tr>\n",
              "    <tr>\n",
              "      <th>25%</th>\n",
              "      <td>16.000000</td>\n",
              "      <td>3.000000</td>\n",
              "      <td>62.000000</td>\n",
              "      <td>23.000000</td>\n",
              "      <td>5.000000</td>\n",
              "      <td>0.000000</td>\n",
              "    </tr>\n",
              "    <tr>\n",
              "      <th>50%</th>\n",
              "      <td>27.000000</td>\n",
              "      <td>4.000000</td>\n",
              "      <td>119.000000</td>\n",
              "      <td>23.000000</td>\n",
              "      <td>5.000000</td>\n",
              "      <td>0.000000</td>\n",
              "    </tr>\n",
              "    <tr>\n",
              "      <th>75%</th>\n",
              "      <td>46.000000</td>\n",
              "      <td>5.000000</td>\n",
              "      <td>200.000000</td>\n",
              "      <td>23.000000</td>\n",
              "      <td>5.000000</td>\n",
              "      <td>0.000000</td>\n",
              "    </tr>\n",
              "    <tr>\n",
              "      <th>max</th>\n",
              "      <td>102.000000</td>\n",
              "      <td>5.000000</td>\n",
              "      <td>692.000000</td>\n",
              "      <td>23.000000</td>\n",
              "      <td>5.000000</td>\n",
              "      <td>4310.000000</td>\n",
              "    </tr>\n",
              "  </tbody>\n",
              "</table>\n",
              "</div>\n",
              "    <div class=\"colab-df-buttons\">\n",
              "\n",
              "  <div class=\"colab-df-container\">\n",
              "    <button class=\"colab-df-convert\" onclick=\"convertToInteractive('df-6aeccd95-730d-4b0b-ac51-7ede4471343e')\"\n",
              "            title=\"Convert this dataframe to an interactive table.\"\n",
              "            style=\"display:none;\">\n",
              "\n",
              "  <svg xmlns=\"http://www.w3.org/2000/svg\" height=\"24px\" viewBox=\"0 -960 960 960\">\n",
              "    <path d=\"M120-120v-720h720v720H120Zm60-500h600v-160H180v160Zm220 220h160v-160H400v160Zm0 220h160v-160H400v160ZM180-400h160v-160H180v160Zm440 0h160v-160H620v160ZM180-180h160v-160H180v160Zm440 0h160v-160H620v160Z\"/>\n",
              "  </svg>\n",
              "    </button>\n",
              "\n",
              "  <style>\n",
              "    .colab-df-container {\n",
              "      display:flex;\n",
              "      gap: 12px;\n",
              "    }\n",
              "\n",
              "    .colab-df-convert {\n",
              "      background-color: #E8F0FE;\n",
              "      border: none;\n",
              "      border-radius: 50%;\n",
              "      cursor: pointer;\n",
              "      display: none;\n",
              "      fill: #1967D2;\n",
              "      height: 32px;\n",
              "      padding: 0 0 0 0;\n",
              "      width: 32px;\n",
              "    }\n",
              "\n",
              "    .colab-df-convert:hover {\n",
              "      background-color: #E2EBFA;\n",
              "      box-shadow: 0px 1px 2px rgba(60, 64, 67, 0.3), 0px 1px 3px 1px rgba(60, 64, 67, 0.15);\n",
              "      fill: #174EA6;\n",
              "    }\n",
              "\n",
              "    .colab-df-buttons div {\n",
              "      margin-bottom: 4px;\n",
              "    }\n",
              "\n",
              "    [theme=dark] .colab-df-convert {\n",
              "      background-color: #3B4455;\n",
              "      fill: #D2E3FC;\n",
              "    }\n",
              "\n",
              "    [theme=dark] .colab-df-convert:hover {\n",
              "      background-color: #434B5C;\n",
              "      box-shadow: 0px 1px 3px 1px rgba(0, 0, 0, 0.15);\n",
              "      filter: drop-shadow(0px 1px 2px rgba(0, 0, 0, 0.3));\n",
              "      fill: #FFFFFF;\n",
              "    }\n",
              "  </style>\n",
              "\n",
              "    <script>\n",
              "      const buttonEl =\n",
              "        document.querySelector('#df-6aeccd95-730d-4b0b-ac51-7ede4471343e button.colab-df-convert');\n",
              "      buttonEl.style.display =\n",
              "        google.colab.kernel.accessAllowed ? 'block' : 'none';\n",
              "\n",
              "      async function convertToInteractive(key) {\n",
              "        const element = document.querySelector('#df-6aeccd95-730d-4b0b-ac51-7ede4471343e');\n",
              "        const dataTable =\n",
              "          await google.colab.kernel.invokeFunction('convertToInteractive',\n",
              "                                                    [key], {});\n",
              "        if (!dataTable) return;\n",
              "\n",
              "        const docLinkHtml = 'Like what you see? Visit the ' +\n",
              "          '<a target=\"_blank\" href=https://colab.research.google.com/notebooks/data_table.ipynb>data table notebook</a>'\n",
              "          + ' to learn more about interactive tables.';\n",
              "        element.innerHTML = '';\n",
              "        dataTable['output_type'] = 'display_data';\n",
              "        await google.colab.output.renderOutput(dataTable, element);\n",
              "        const docLink = document.createElement('div');\n",
              "        docLink.innerHTML = docLinkHtml;\n",
              "        element.appendChild(docLink);\n",
              "      }\n",
              "    </script>\n",
              "  </div>\n",
              "\n",
              "\n",
              "<div id=\"df-2b67df21-bae9-443b-8084-635d84cf5894\">\n",
              "  <button class=\"colab-df-quickchart\" onclick=\"quickchart('df-2b67df21-bae9-443b-8084-635d84cf5894')\"\n",
              "            title=\"Suggest charts.\"\n",
              "            style=\"display:none;\">\n",
              "\n",
              "<svg xmlns=\"http://www.w3.org/2000/svg\" height=\"24px\"viewBox=\"0 0 24 24\"\n",
              "     width=\"24px\">\n",
              "    <g>\n",
              "        <path d=\"M19 3H5c-1.1 0-2 .9-2 2v14c0 1.1.9 2 2 2h14c1.1 0 2-.9 2-2V5c0-1.1-.9-2-2-2zM9 17H7v-7h2v7zm4 0h-2V7h2v10zm4 0h-2v-4h2v4z\"/>\n",
              "    </g>\n",
              "</svg>\n",
              "  </button>\n",
              "\n",
              "<style>\n",
              "  .colab-df-quickchart {\n",
              "      --bg-color: #E8F0FE;\n",
              "      --fill-color: #1967D2;\n",
              "      --hover-bg-color: #E2EBFA;\n",
              "      --hover-fill-color: #174EA6;\n",
              "      --disabled-fill-color: #AAA;\n",
              "      --disabled-bg-color: #DDD;\n",
              "  }\n",
              "\n",
              "  [theme=dark] .colab-df-quickchart {\n",
              "      --bg-color: #3B4455;\n",
              "      --fill-color: #D2E3FC;\n",
              "      --hover-bg-color: #434B5C;\n",
              "      --hover-fill-color: #FFFFFF;\n",
              "      --disabled-bg-color: #3B4455;\n",
              "      --disabled-fill-color: #666;\n",
              "  }\n",
              "\n",
              "  .colab-df-quickchart {\n",
              "    background-color: var(--bg-color);\n",
              "    border: none;\n",
              "    border-radius: 50%;\n",
              "    cursor: pointer;\n",
              "    display: none;\n",
              "    fill: var(--fill-color);\n",
              "    height: 32px;\n",
              "    padding: 0;\n",
              "    width: 32px;\n",
              "  }\n",
              "\n",
              "  .colab-df-quickchart:hover {\n",
              "    background-color: var(--hover-bg-color);\n",
              "    box-shadow: 0 1px 2px rgba(60, 64, 67, 0.3), 0 1px 3px 1px rgba(60, 64, 67, 0.15);\n",
              "    fill: var(--button-hover-fill-color);\n",
              "  }\n",
              "\n",
              "  .colab-df-quickchart-complete:disabled,\n",
              "  .colab-df-quickchart-complete:disabled:hover {\n",
              "    background-color: var(--disabled-bg-color);\n",
              "    fill: var(--disabled-fill-color);\n",
              "    box-shadow: none;\n",
              "  }\n",
              "\n",
              "  .colab-df-spinner {\n",
              "    border: 2px solid var(--fill-color);\n",
              "    border-color: transparent;\n",
              "    border-bottom-color: var(--fill-color);\n",
              "    animation:\n",
              "      spin 1s steps(1) infinite;\n",
              "  }\n",
              "\n",
              "  @keyframes spin {\n",
              "    0% {\n",
              "      border-color: transparent;\n",
              "      border-bottom-color: var(--fill-color);\n",
              "      border-left-color: var(--fill-color);\n",
              "    }\n",
              "    20% {\n",
              "      border-color: transparent;\n",
              "      border-left-color: var(--fill-color);\n",
              "      border-top-color: var(--fill-color);\n",
              "    }\n",
              "    30% {\n",
              "      border-color: transparent;\n",
              "      border-left-color: var(--fill-color);\n",
              "      border-top-color: var(--fill-color);\n",
              "      border-right-color: var(--fill-color);\n",
              "    }\n",
              "    40% {\n",
              "      border-color: transparent;\n",
              "      border-right-color: var(--fill-color);\n",
              "      border-top-color: var(--fill-color);\n",
              "    }\n",
              "    60% {\n",
              "      border-color: transparent;\n",
              "      border-right-color: var(--fill-color);\n",
              "    }\n",
              "    80% {\n",
              "      border-color: transparent;\n",
              "      border-right-color: var(--fill-color);\n",
              "      border-bottom-color: var(--fill-color);\n",
              "    }\n",
              "    90% {\n",
              "      border-color: transparent;\n",
              "      border-bottom-color: var(--fill-color);\n",
              "    }\n",
              "  }\n",
              "</style>\n",
              "\n",
              "  <script>\n",
              "    async function quickchart(key) {\n",
              "      const quickchartButtonEl =\n",
              "        document.querySelector('#' + key + ' button');\n",
              "      quickchartButtonEl.disabled = true;  // To prevent multiple clicks.\n",
              "      quickchartButtonEl.classList.add('colab-df-spinner');\n",
              "      try {\n",
              "        const charts = await google.colab.kernel.invokeFunction(\n",
              "            'suggestCharts', [key], {});\n",
              "      } catch (error) {\n",
              "        console.error('Error during call to suggestCharts:', error);\n",
              "      }\n",
              "      quickchartButtonEl.classList.remove('colab-df-spinner');\n",
              "      quickchartButtonEl.classList.add('colab-df-quickchart-complete');\n",
              "    }\n",
              "    (() => {\n",
              "      let quickchartButtonEl =\n",
              "        document.querySelector('#df-2b67df21-bae9-443b-8084-635d84cf5894 button');\n",
              "      quickchartButtonEl.style.display =\n",
              "        google.colab.kernel.accessAllowed ? 'block' : 'none';\n",
              "    })();\n",
              "  </script>\n",
              "</div>\n",
              "    </div>\n",
              "  </div>\n"
            ]
          },
          "metadata": {},
          "execution_count": 358
        }
      ]
    },
    {
      "cell_type": "markdown",
      "source": [
        "# **Hypothesis testing**\n",
        "ทำการทดสอบสมมติฐานต่างๆ เพื่อสนับสนุนข้อมูลสถิติที่วิเคราะห์ได้ว่ามีนัยสำคัญอย่างไร (statistically significance)"
      ],
      "metadata": {
        "id": "tCUOdFs9lvIN"
      }
    },
    {
      "cell_type": "markdown",
      "source": [
        "- Null Hypothesis (**H0**): version ของ application ไม่ส่งผลต่อ score\n",
        "- Alternative Hypothesis (**H1**): version ของ application ส่งผลต่อ score"
      ],
      "metadata": {
        "id": "RfdhQg9lwfhQ"
      }
    },
    {
      "cell_type": "code",
      "source": [
        "df2['reviewCreatedVersion'].astype(int)"
      ],
      "metadata": {
        "colab": {
          "base_uri": "https://localhost:8080/"
        },
        "id": "jUYMVHa7weFT",
        "outputId": "626505aa-2c11-49a8-db7a-83b71519a397"
      },
      "execution_count": 359,
      "outputs": [
        {
          "output_type": "execute_result",
          "data": {
            "text/plain": [
              "0        23\n",
              "2        23\n",
              "3        22\n",
              "4        22\n",
              "5        23\n",
              "         ..\n",
              "27519    23\n",
              "27520    23\n",
              "27522    23\n",
              "27524    23\n",
              "27526    23\n",
              "Name: reviewCreatedVersion, Length: 19293, dtype: int64"
            ]
          },
          "metadata": {},
          "execution_count": 359
        }
      ]
    },
    {
      "cell_type": "code",
      "source": [
        "new_version = df2.loc[(df2['reviewCreatedVersion'] >= 22), 'score']\n",
        "old_version = df2.loc[(df2['reviewCreatedVersion'] < 22), 'score']"
      ],
      "metadata": {
        "id": "oSjhVkjzvsuk"
      },
      "execution_count": 360,
      "outputs": []
    },
    {
      "cell_type": "code",
      "source": [
        "from scipy.stats import shapiro\n",
        "\n",
        "data1 = new_version\n",
        "stat, p = shapiro(data1)\n",
        "if p > 0.05:\n",
        " print('normally distributed.')\n",
        "else:\n",
        " print('not normally distributed.')\n",
        "\n",
        "data2 = old_version\n",
        "stat, p = shapiro(data2)\n",
        "if p > 0.05:\n",
        " print('normally distributed.')\n",
        "else:\n",
        " print('not normally distributed.')\n",
        "\n",
        "data3 = df2['score']\n",
        "stat, p = shapiro(data3)\n",
        "if p > 0.05:\n",
        " print('normally distributed.')\n",
        "else:\n",
        " print('not normally distributed.')"
      ],
      "metadata": {
        "colab": {
          "base_uri": "https://localhost:8080/"
        },
        "id": "1XqXZLFgmWIz",
        "outputId": "398028b5-3f32-4ff6-e0e3-b4e2ef29300e"
      },
      "execution_count": 361,
      "outputs": [
        {
          "output_type": "stream",
          "name": "stdout",
          "text": [
            "not normally distributed.\n",
            "not normally distributed.\n",
            "not normally distributed.\n"
          ]
        },
        {
          "output_type": "stream",
          "name": "stderr",
          "text": [
            "/usr/local/lib/python3.10/dist-packages/scipy/stats/_morestats.py:1882: UserWarning: p-value may not be accurate for N > 5000.\n",
            "  warnings.warn(\"p-value may not be accurate for N > 5000.\")\n"
          ]
        }
      ]
    },
    {
      "cell_type": "code",
      "source": [
        "from scipy.stats import levene\n",
        "\n",
        "# Data is NOT normally distributed\n",
        "stat, p = levene(data1, data2, center= 'median')\n",
        "print('stat=%.3f, p=%.3f' % (stat, p))\n",
        "\n",
        "if p > 0.05:\n",
        "  print('Probably the same variances' )\n",
        "else:\n",
        "  print('Probably different variances' )"
      ],
      "metadata": {
        "colab": {
          "base_uri": "https://localhost:8080/"
        },
        "id": "P-SEGX7bqvhU",
        "outputId": "6a968ddd-fc5f-4ad2-f323-e06fff23fec2"
      },
      "execution_count": 362,
      "outputs": [
        {
          "output_type": "stream",
          "name": "stdout",
          "text": [
            "stat=93.290, p=0.000\n",
            "Probably different variances\n"
          ]
        }
      ]
    },
    {
      "cell_type": "code",
      "source": [
        "from scipy.stats import mannwhitneyu\n",
        "\n",
        "stat, p = mannwhitneyu(data1, data2)\n",
        "print('stat=%.3f, p=%.3f' % (stat, p))\n",
        "\n",
        "# ไม่ reject\n",
        "if p > 0.05:\n",
        " print('Probably the same distribution' )\n",
        "\n",
        "# reject\n",
        "else:\n",
        " print('Probably different distributions' )"
      ],
      "metadata": {
        "colab": {
          "base_uri": "https://localhost:8080/"
        },
        "id": "yNxSbbn2rJAX",
        "outputId": "38c7d856-cd81-4a63-e168-67f86ffcd366"
      },
      "execution_count": 363,
      "outputs": [
        {
          "output_type": "stream",
          "name": "stdout",
          "text": [
            "stat=11309125.000, p=0.000\n",
            "Probably different distributions\n"
          ]
        }
      ]
    },
    {
      "cell_type": "markdown",
      "source": [
        "สรุปว่า H0 จะถูก reject ออกไป หมายความว่า ตัว version ส่งผลต่อ score"
      ],
      "metadata": {
        "id": "4bB_QKxqx2P5"
      }
    }
  ]
}